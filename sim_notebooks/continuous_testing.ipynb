{
 "cells": [
  {
   "cell_type": "code",
   "execution_count": 1,
   "metadata": {},
   "outputs": [],
   "source": [
    "import numpy as np\n",
    "from multiplicative_weights_sim import generate_agents, sim\n",
    "from generate_opinions import *\n",
    "import matplotlib.pyplot as plt\n",
    "import random\n",
    "import pandas as pd"
   ]
  },
  {
   "cell_type": "code",
   "execution_count": 2,
   "metadata": {},
   "outputs": [
    {
     "name": "stdout",
     "output_type": "stream",
     "text": [
      "1000\n",
      "1000\n",
      "1000\n",
      "1000\n",
      "1000\n",
      "1000\n",
      "1000\n",
      "1000\n",
      "1000\n",
      "1000\n",
      "1000\n",
      "1000\n",
      "1000\n",
      "1000\n",
      "1000\n",
      "1000\n",
      "1000\n",
      "1000\n"
     ]
    }
   ],
   "source": [
    "num_agents = 1000\n",
    "# opinions = bimodal_opinions(\n",
    "#     num_agents=num_agents,\n",
    "#     mean1=-0.5,\n",
    "#     mean2=0.5,\n",
    "#     std_dev1=0.1,\n",
    "#     std_dev2=0.1,\n",
    "#     lower_bound=-1,\n",
    "#     upper_bound=1,\n",
    "#     proportion_first_mode=0.5 )\n",
    "\n",
    "# opinions = normal_opinions(\n",
    "#     num_agents=200,\n",
    "#     mean=0,\n",
    "#     std_dev=0.25,\n",
    "#     lower_bound=-1,\n",
    "#     upper_bound=1\n",
    "# )\n",
    "\n",
    "# opinions = trimodal_opinions(mean1=-0.5, mean2=0, mean3=0.5, std_dev=0.1, num_agents=1000, lower_bound=-1, upper_bound=1)\n",
    "\n",
    "\n",
    "# steps = [(-0.6, 250), (0, 500), (0.6, 250)]  # Mean opinion and size for each step\n",
    "# num_agents = 1000\n",
    "# lower_bound = -1\n",
    "# upper_bound = 1\n",
    "\n",
    "# opinions = step_opinions(steps, num_agents, lower_bound, upper_bound)\n",
    "\n",
    "# start = 0  # Starting point of the random walk in the middle of the opinion space\n",
    "# num_agents = 1000\n",
    "# step_size = 0.1  # Determines how much each step in the random walk can change\n",
    "\n",
    "# opinions = random_walk_opinions(start, num_agents, step_size)\n",
    "\n",
    "saved_opinions = pd.read_csv('constants/opinions.csv', index_col=0)\n",
    "\n",
    "opinions = saved_opinions['0'].to_list()\n",
    "\n",
    "all_agents = []\n",
    "\n",
    "for percent_low in [0.9, 0.8, 0.7, 0.6, 0.5, 0.4, 0.3, 0.2, 0.1]:\n",
    "    num_extra_low = int(num_agents*percent_low)\n",
    "    num_same = int(num_agents*(1-percent_low)/2)\n",
    "    num_high = num_agents - num_extra_low - num_same\n",
    "\n",
    "    weights = []\n",
    "\n",
    "    for i in range(0, num_extra_low):\n",
    "        weights.append(np.array([8, 1, 1]))\n",
    "\n",
    "    for i in range(0, num_same):\n",
    "        weights.append(np.array([1, 1, 1]))\n",
    "\n",
    "    for i in range(0, num_high):\n",
    "        weights.append(np.array([1, 1, 8]))\n",
    "\n",
    "    random.shuffle(weights)\n",
    "    print(len(weights))\n",
    "\n",
    "    agents = generate_agents(opinions, weights)\n",
    "    all_agents.append((percent_low, agents))"
   ]
  },
  {
   "cell_type": "code",
   "execution_count": 12,
   "metadata": {},
   "outputs": [
    {
     "data": {
      "text/plain": [
       "1000"
      ]
     },
     "execution_count": 12,
     "metadata": {},
     "output_type": "execute_result"
    }
   ],
   "source": [
    "opinions = [agent.opinions[0] for agent in agents.values()]\n",
    "len(opinions)"
   ]
  },
  {
   "cell_type": "code",
   "execution_count": 13,
   "metadata": {},
   "outputs": [
    {
     "data": {
      "image/png": "[encoded data removed]",
      "text/plain": [
       "<Figure size 640x480 with 1 Axes>"
      ]
     },
     "metadata": {},
     "output_type": "display_data"
    }
   ],
   "source": [
    "import matplotlib.pyplot as plt\n",
    "plt.hist(opinions, bins=100)\n",
    "plt.show()"
   ]
  },
  {
   "cell_type": "code",
   "execution_count": 4,
   "metadata": {},
   "outputs": [],
   "source": [
    "# all_agents_post_sim = []\n",
    "# for agents in all_agents:\n",
    "#     print(f\"simulating low preference percent {agents[0]}\")\n",
    "#     all_agents_post_sim.append((agents[0], sim(agents[1], 1000, 0.1)))\n",
    "import pickle\n",
    "with open('low_preference_data.pkl', 'rb') as f:\n",
    "    all_agents_post_loaded = pickle.load(f)"
   ]
  },
  {
   "cell_type": "code",
   "execution_count": 6,
   "metadata": {},
   "outputs": [],
   "source": [
    "for prob, agents in all_agents_post_loaded:\n",
    "    with open(f'low_preference_data_{prob}.pkl', 'wb') as f:\n",
    "        pickle.dump(agents, f)"
   ]
  },
  {
   "cell_type": "code",
   "execution_count": null,
   "metadata": {},
   "outputs": [],
   "source": []
  }
 ],
 "metadata": {
  "kernelspec": {
   "display_name": "fydp",
   "language": "python",
   "name": "python3"
  },
  "language_info": {
   "codemirror_mode": {
    "name": "ipython",
    "version": 3
   },
   "file_extension": ".py",
   "mimetype": "text/x-python",
   "name": "python",
   "nbconvert_exporter": "python",
   "pygments_lexer": "ipython3",
   "version": "3.9.15"
  }
 },
 "nbformat": 4,
 "nbformat_minor": 2
}
