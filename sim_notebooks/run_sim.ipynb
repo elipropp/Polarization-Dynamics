{
 "cells": [
  {
   "cell_type": "code",
   "execution_count": 13,
   "metadata": {},
   "outputs": [],
   "source": [
    "from multiplicative_weights_sim import Distribution, generate_agents, sim, Agent, Tolerance\n",
    "from generate_opinions import *\n",
    "import matplotlib.pyplot as plt # type: ignore\n",
    "import pandas as pd # type: ignore\n",
    "import random\n",
    "from pickle_utils import save_agents"
   ]
  },
  {
   "cell_type": "code",
   "execution_count": 14,
   "metadata": {},
   "outputs": [],
   "source": [
    "num_agents = 1000\n",
    "\n",
    "saved_opinions = pd.read_csv('constants/opinions.csv', index_col=0)\n",
    "opinions = saved_opinions['0'].to_list()\n",
    "\n",
    "# Creating agents with different distributions of opinions\n",
    "all_agents = []\n",
    "for percent_low in [0.9, 0.8, 0.7, 0.6, 0.5, 0.4, 0.3, 0.2, 0.1]:\n",
    "    num_extra_low = int(num_agents*percent_low)\n",
    "    num_same = int(num_agents*(1-percent_low)/2)\n",
    "    num_high = num_agents - num_extra_low - num_same\n",
    "\n",
    "    weights = []\n",
    "\n",
    "    for i in range(0, num_extra_low):\n",
    "        weights.append(np.array([8, 1, 1]))\n",
    "\n",
    "    for i in range(0, num_same):\n",
    "        weights.append(np.array([1, 1, 1]))\n",
    "\n",
    "    for i in range(0, num_high):\n",
    "        weights.append(np.array([1, 1, 8]))\n",
    "\n",
    "    random.shuffle(weights)\n",
    "    agents = generate_agents(opinions, weights)\n",
    "    all_agents.append((percent_low, agents))"
   ]
  },
  {
   "cell_type": "code",
   "execution_count": 15,
   "metadata": {},
   "outputs": [
    {
     "data": {
      "image/png": "[encoded data removed]",
      "text/plain": [
       "<Figure size 640x480 with 1 Axes>"
      ]
     },
     "metadata": {},
     "output_type": "display_data"
    }
   ],
   "source": [
    "plt.hist(opinions, bins=100)\n",
    "plt.show()"
   ]
  },
  {
   "cell_type": "code",
   "execution_count": 16,
   "metadata": {},
   "outputs": [
    {
     "name": "stdout",
     "output_type": "stream",
     "text": [
      "simulating low preference percent 0.9\n",
      "iterations: 0 - 100 took 17.179112911224365 seconds\n",
      "iterations: 100 - 200 took 16.43026614189148 seconds\n",
      "iterations: 200 - 300 took 17.688273191452026 seconds\n",
      "iterations: 300 - 400 took 17.47751021385193 seconds\n",
      "iterations: 400 - 500 took 16.01121425628662 seconds\n",
      "iterations: 500 - 600 took 18.65367102622986 seconds\n",
      "iterations: 600 - 700 took 18.825345039367676 seconds\n",
      "iterations: 700 - 800 took 19.16001296043396 seconds\n",
      "iterations: 800 - 900 took 17.32984495162964 seconds\n",
      "total sim time: 177.0339639186859\n",
      "simulating low preference percent 0.8\n",
      "iterations: 0 - 100 took 17.358619213104248 seconds\n",
      "iterations: 100 - 200 took 17.482038021087646 seconds\n",
      "iterations: 200 - 300 took 17.02517795562744 seconds\n",
      "iterations: 300 - 400 took 16.440105199813843 seconds\n"
     ]
    }
   ],
   "source": [
    "all_agents_post_sim = []\n",
    "for percent_low, agents in all_agents:\n",
    "    print(f\"simulating low preference percent {percent_low}\")\n",
    "    num_iterations = 1000\n",
    "    learning_rate = 0.1\n",
    "    all_agents_post_sim.append((percent_low, sim(agents, num_iterations, learning_rate)))"
   ]
  },
  {
   "cell_type": "code",
   "execution_count": null,
   "metadata": {},
   "outputs": [],
   "source": [
    "for percent_low, agents in all_agents_post_sim:\n",
    "    save_agents(agents, f\"agents_{percent_low}.pkl\")"
   ]
  },
  {
   "cell_type": "code",
   "execution_count": null,
   "metadata": {},
   "outputs": [],
   "source": []
  }
 ],
 "metadata": {
  "kernelspec": {
   "display_name": "fydp",
   "language": "python",
   "name": "python3"
  },
  "language_info": {
   "codemirror_mode": {
    "name": "ipython",
    "version": 3
   },
   "file_extension": ".py",
   "mimetype": "text/x-python",
   "name": "python",
   "nbconvert_exporter": "python",
   "pygments_lexer": "ipython3",
   "version": "3.9.15"
  }
 },
 "nbformat": 4,
 "nbformat_minor": 2
}
