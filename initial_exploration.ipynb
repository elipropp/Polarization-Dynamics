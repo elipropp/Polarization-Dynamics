{
 "cells": [
  {
   "cell_type": "code",
   "execution_count": 9,
   "metadata": {},
   "outputs": [],
   "source": [
    "import numpy as np\n",
    "from enum import Enum\n",
    "from typing import List\n",
    "import random\n",
    "import math"
   ]
  },
  {
   "cell_type": "markdown",
   "metadata": {},
   "source": [
    "# Things to do\n",
    "- Initialize n agents, n/2 on each team (team A, B)\n",
    "- start with 1 topic for opinions\n",
    "- give uniform/normal dist of [-1, 0), (0, -1] for team A, B respectively\n",
    "- set some tolerance threshold for if agents on opposing teams can work together\n",
    "- make some payoff matrix with [0, 1] for probability of reproducing"
   ]
  },
  {
   "cell_type": "code",
   "execution_count": 25,
   "metadata": {},
   "outputs": [],
   "source": [
    "class Team(Enum):\n",
    "    A = 0\n",
    "    B = 1\n",
    "\n",
    "class Agent():\n",
    "    def __init__(self, team, opinions):\n",
    "        self.team: Team = team\n",
    "        self.opinions: List = opinions\n",
    "        self.probReproduce = None\n"
   ]
  },
  {
   "cell_type": "code",
   "execution_count": 26,
   "metadata": {},
   "outputs": [],
   "source": [
    "TOLERANCE = 0.3\n",
    "# [[(A, A), (A, B)]\n",
    "#  [(B, A), (B, B)]]\n",
    "UTILITY_MATRIX = [[1.0, 1.5],\n",
    "                 [1.5, 1.0]]\n",
    "def getUtility(agent1: Agent, agent2: Agent):\n",
    "    return UTILITY_MATRIX[agent1.team.value][agent2.team.value]"
   ]
  },
  {
   "cell_type": "code",
   "execution_count": 47,
   "metadata": {},
   "outputs": [],
   "source": [
    "numAgents = 10 # always even\n",
    "\n",
    "def generateAgents(distribution: str) -> tuple[List[Agent], List[Agent]]:\n",
    "    teamA = []\n",
    "    teamB = []\n",
    "    # [mean, std_dev, low bound, upper bound]\n",
    "    teamADistribution = [-0.5, 0.2, -1, 0]\n",
    "    teamBDistribution = [0.5, 0.2, 0, 1]\n",
    "\n",
    "    if distribution == \"normal\":\n",
    "        teamAOpinions = np.random.normal(teamADistribution[0], teamADistribution[1], numAgents//2)\n",
    "        teamBOpinions = np.random.normal(teamBDistribution[0], teamBDistribution[1], numAgents//2)\n",
    "    elif distribution == \"uniform\":\n",
    "        teamAOpinions = np.random.uniform(teamADistribution[2], teamADistribution[3], numAgents//2)\n",
    "        teamBOpinions = np.random.uniform(teamBDistribution[2], teamBDistribution[3], numAgents//2)\n",
    "\n",
    "    print(teamAOpinions)\n",
    "    print(teamBOpinions)\n",
    "    for i in range(0, numAgents):\n",
    "        if i < numAgents/2:\n",
    "            # team A\n",
    "            team = Team.A\n",
    "            opinion = teamAOpinions[i]\n",
    "            teamA.append(Agent(team, [opinion]))\n",
    "        else:\n",
    "            # team B\n",
    "            team = Team.B\n",
    "            opinion = teamBOpinions[i - numAgents//2]\n",
    "            teamB.append(Agent(team, [opinion]))\n",
    "\n",
    "    return teamA, teamB\n",
    "        "
   ]
  },
  {
   "cell_type": "code",
   "execution_count": 50,
   "metadata": {},
   "outputs": [
    {
     "name": "stdout",
     "output_type": "stream",
     "text": [
      "[-0.84442045 -0.6356482  -0.50848185 -0.06218279 -0.25107434]\n",
      "[0.22415082 0.60097152 0.56897688 0.85986595 0.77546953]\n"
     ]
    }
   ],
   "source": [
    "teamA, teamB = generateAgents(\"normal\")"
   ]
  },
  {
   "cell_type": "code",
   "execution_count": 49,
   "metadata": {},
   "outputs": [
    {
     "name": "stdout",
     "output_type": "stream",
     "text": [
      "[-0.83609282 -0.22726885 -0.54174029 -0.62043974 -0.67466879]\n",
      "[0.1348297  0.86076813 0.98992741 0.16557888 0.55971299]\n"
     ]
    }
   ],
   "source": [
    "# teamA, teamB = generateAgents(\"uniform\")"
   ]
  },
  {
   "cell_type": "code",
   "execution_count": null,
   "metadata": {},
   "outputs": [],
   "source": [
    "def simMain(teamA: List[Agent], teamB: List[Agent], numIterations: int):\n",
    "    # combine both lists\n",
    "    # shuffle the combined list\n",
    "    # take pairs of agents from the combined list\n",
    "    # if odd number the last agents just dies (maybe some other way to solve this)\n",
    "    # check if agents can work together pair by pair - either same team auto yes, diff team check threshold, or both cases check threshold\n",
    "    # if they can't then prob reproduce is 0\n",
    "    # if they can then get prob reporduce from utility\n",
    "    # calculate opinions of offspring\n",
    "    pass"
   ]
  }
 ],
 "metadata": {
  "kernelspec": {
   "display_name": "fydp",
   "language": "python",
   "name": "python3"
  },
  "language_info": {
   "codemirror_mode": {
    "name": "ipython",
    "version": 3
   },
   "file_extension": ".py",
   "mimetype": "text/x-python",
   "name": "python",
   "nbconvert_exporter": "python",
   "pygments_lexer": "ipython3",
   "version": "3.9.16"
  }
 },
 "nbformat": 4,
 "nbformat_minor": 2
}
