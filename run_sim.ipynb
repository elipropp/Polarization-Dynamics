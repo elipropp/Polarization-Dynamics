{
 "cells": [
  {
   "cell_type": "code",
   "execution_count": 1,
   "metadata": {},
   "outputs": [],
   "source": [
    "import numpy as np\n",
    "from enum import Enum\n",
    "from typing import List\n",
    "import random\n",
    "import math\n",
    "from utils import *"
   ]
  },
  {
   "cell_type": "code",
   "execution_count": 2,
   "metadata": {},
   "outputs": [],
   "source": [
    "# Make all lists into numpy arrays for speed\n",
    "# Add mean and std deviation functions for teams\n",
    "# Get all opinions for a team"
   ]
  },
  {
   "cell_type": "code",
   "execution_count": 3,
   "metadata": {},
   "outputs": [],
   "source": [
    "# OTHER DIST OPTION\n",
    "# np.random.uniform\n",
    "teamADist = Distribution(\n",
    "    mean = -0.5,\n",
    "    std_dev = 0.25,\n",
    "    lower_bound = -1,\n",
    "    upper_bound = 0,\n",
    "    dist_func = np.random.normal\n",
    ")\n",
    "\n",
    "teamBDist = Distribution(\n",
    "    mean = 0.5,\n",
    "    std_dev = 0.25,\n",
    "    lower_bound = 0,\n",
    "    upper_bound = 1,\n",
    "    dist_func = np.random.normal\n",
    ")\n",
    "\n",
    "teamA, teamB = generateAgents(teamADist, teamBDist, agentsPerTeam=100)"
   ]
  },
  {
   "cell_type": "code",
   "execution_count": 4,
   "metadata": {},
   "outputs": [
    {
     "name": "stdout",
     "output_type": "stream",
     "text": [
      "Starting with iteration 0\n",
      "Num Agents Team A: 100, Team B: 100\n",
      "Starting with iteration 1\n",
      "Num Agents Team A: 80, Team B: 77\n",
      "Starting with iteration 2\n",
      "Num Agents Team A: 70, Team B: 61\n",
      "Starting with iteration 3\n",
      "Num Agents Team A: 71, Team B: 65\n",
      "Starting with iteration 4\n",
      "Num Agents Team A: 90, Team B: 82\n",
      "Opinions are the same! WOAH\n",
      "Opinions are the same! WOAH\n",
      "Starting with iteration 5\n",
      "Num Agents Team A: 115, Team B: 108\n",
      "Starting with iteration 6\n",
      "Num Agents Team A: 139, Team B: 131\n",
      "Opinions are the same! WOAH\n",
      "Opinions are the same! WOAH\n",
      "Starting with iteration 7\n",
      "Num Agents Team A: 175, Team B: 171\n",
      "Opinions are the same! WOAH\n",
      "Opinions are the same! WOAH\n",
      "Opinions are the same! WOAH\n",
      "Opinions are the same! WOAH\n",
      "Starting with iteration 8\n",
      "Num Agents Team A: 212, Team B: 212\n",
      "Starting with iteration 9\n",
      "Num Agents Team A: 262, Team B: 262\n",
      "Starting with iteration 10\n",
      "Num Agents Team A: 341, Team B: 325\n",
      "Opinions are the same! WOAH\n",
      "Opinions are the same! WOAH\n",
      "Starting with iteration 11\n",
      "Num Agents Team A: 420, Team B: 413\n",
      "Starting with iteration 12\n",
      "Num Agents Team A: 528, Team B: 519\n",
      "Starting with iteration 13\n",
      "Num Agents Team A: 652, Team B: 656\n",
      "Opinions are the same! WOAH\n",
      "Opinions are the same! WOAH\n",
      "Opinions are the same! WOAH\n",
      "Opinions are the same! WOAH\n",
      "Starting with iteration 14\n",
      "Num Agents Team A: 822, Team B: 811\n",
      "Starting with iteration 15\n",
      "Num Agents Team A: 1010, Team B: 1021\n",
      "Starting with iteration 16\n",
      "Num Agents Team A: 1260, Team B: 1244\n",
      "Starting with iteration 17\n",
      "Num Agents Team A: 1596, Team B: 1562\n",
      "Opinions are the same! WOAH\n",
      "Opinions are the same! WOAH\n",
      "Starting with iteration 18\n",
      "Num Agents Team A: 1992, Team B: 1966\n",
      "Opinions are the same! WOAH\n",
      "Opinions are the same! WOAH\n",
      "Starting with iteration 19\n",
      "Num Agents Team A: 2491, Team B: 2464\n",
      "Starting with iteration 20\n",
      "Num Agents Team A: 3119, Team B: 3078\n",
      "Starting with iteration 21\n",
      "Num Agents Team A: 3908, Team B: 3867\n",
      "Starting with iteration 22\n",
      "Num Agents Team A: 4832, Team B: 4790\n",
      "Starting with iteration 23\n",
      "Num Agents Team A: 6039, Team B: 5997\n",
      "Starting with iteration 24\n",
      "Num Agents Team A: 7482, Team B: 7463\n",
      "Opinions are the same! WOAH\n",
      "Opinions are the same! WOAH\n"
     ]
    }
   ],
   "source": [
    "FRACTION_MOVE = 0.25\n",
    "TOLERANCE = 0.75\n",
    "history = sim(teamA, teamB, 25, FRACTION_MOVE, TOLERANCE)"
   ]
  },
  {
   "cell_type": "code",
   "execution_count": 9,
   "metadata": {},
   "outputs": [
    {
     "data": {
      "text/plain": [
       "[<matplotlib.lines.Line2D at 0x131954d00>]"
      ]
     },
     "execution_count": 9,
     "metadata": {},
     "output_type": "execute_result"
    },
    {
     "data": {
      "image/png": "[encoded data removed]",
      "text/plain": [
       "<Figure size 640x480 with 1 Axes>"
      ]
     },
     "metadata": {},
     "output_type": "display_data"
    }
   ],
   "source": [
    "import matplotlib.pyplot as plt\n",
    "\n",
    "teamAMeans = [teamA.get_mean_opinions() for teamA, _ in history]\n",
    "teamBMeans = [teamB.get_mean_opinions() for  _, teamB in history]\n",
    "plt.plot(teamAMeans, label=\"Team A\")\n",
    "plt.plot(teamBMeans, label=\"Team B\")"
   ]
  },
  {
   "cell_type": "code",
   "execution_count": null,
   "metadata": {},
   "outputs": [],
   "source": [
    "import matplotlib.pyplot as plt\n",
    "\n",
    "teamAMeans = [teamA.get_std_dev_opinions() for teamA, _ in history]\n",
    "teamBMeans = [teamB.get_std_dev_opinions() for  _, teamB in history]\n",
    "plt.plot(teamAMeans, label=\"Team A\")\n",
    "plt.plot(teamBMeans, label=\"Team B\")"
   ]
  },
  {
   "cell_type": "code",
   "execution_count": 8,
   "metadata": {},
   "outputs": [
    {
     "ename": "NameError",
     "evalue": "name 'plt' is not defined",
     "output_type": "error",
     "traceback": [
      "\u001b[0;31m---------------------------------------------------------------------------\u001b[0m",
      "\u001b[0;31mNameError\u001b[0m                                 Traceback (most recent call last)",
      "Cell \u001b[0;32mIn [8], line 1\u001b[0m\n\u001b[0;32m----> 1\u001b[0m plt\u001b[38;5;241m.\u001b[39mplot(teamAMeans)\n\u001b[1;32m      2\u001b[0m plt\u001b[38;5;241m.\u001b[39mplot(teamBMeans)\n",
      "\u001b[0;31mNameError\u001b[0m: name 'plt' is not defined"
     ]
    }
   ],
   "source": [
    "plt.plot(teamAMeans)\n",
    "plt.plot(teamBMeans)"
   ]
  },
  {
   "cell_type": "code",
   "execution_count": 15,
   "metadata": {},
   "outputs": [
    {
     "name": "stdout",
     "output_type": "stream",
     "text": [
      "1\n",
      "1\n",
      "1\n",
      "1\n",
      "1\n",
      "1\n",
      "1\n",
      "1\n",
      "1\n",
      "1\n",
      "1\n",
      "1\n",
      "1\n",
      "1\n",
      "1\n",
      "1\n",
      "1\n",
      "1\n",
      "1\n",
      "1\n",
      "1\n",
      "1\n",
      "1\n",
      "1\n",
      "1\n",
      "1\n",
      "1\n",
      "1\n",
      "1\n",
      "1\n",
      "1\n",
      "1\n",
      "1\n",
      "1\n",
      "1\n",
      "1\n",
      "1\n",
      "1\n",
      "1\n",
      "1\n",
      "1\n",
      "1\n",
      "1\n",
      "1\n",
      "1\n",
      "1\n",
      "1\n",
      "1\n",
      "1\n",
      "1\n",
      "1\n",
      "1\n",
      "1\n",
      "1\n",
      "1\n",
      "1\n",
      "1\n",
      "1\n",
      "1\n",
      "1\n",
      "1\n",
      "1\n",
      "1\n",
      "1\n",
      "1\n",
      "1\n",
      "1\n",
      "1\n",
      "1\n",
      "1\n",
      "1\n",
      "1\n",
      "1\n",
      "1\n",
      "1\n",
      "1\n",
      "1\n",
      "1\n",
      "1\n",
      "1\n",
      "1\n",
      "1\n",
      "1\n",
      "1\n",
      "1\n",
      "1\n",
      "1\n",
      "1\n",
      "1\n",
      "1\n",
      "1\n",
      "1\n",
      "1\n",
      "1\n",
      "1\n",
      "1\n",
      "1\n",
      "1\n",
      "1\n",
      "1\n"
     ]
    }
   ],
   "source": []
  },
  {
   "cell_type": "code",
   "execution_count": null,
   "metadata": {},
   "outputs": [],
   "source": []
  }
 ],
 "metadata": {
  "kernelspec": {
   "display_name": "Python 3",
   "language": "python",
   "name": "python3"
  },
  "language_info": {
   "codemirror_mode": {
    "name": "ipython",
    "version": 3
   },
   "file_extension": ".py",
   "mimetype": "text/x-python",
   "name": "python",
   "nbconvert_exporter": "python",
   "pygments_lexer": "ipython3",
   "version": "3.9.15"
  }
 },
 "nbformat": 4,
 "nbformat_minor": 2
}
