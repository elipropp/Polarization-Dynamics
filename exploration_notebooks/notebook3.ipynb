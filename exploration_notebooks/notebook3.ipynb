{
 "cells": [
  {
   "cell_type": "code",
   "execution_count": 5,
   "metadata": {},
   "outputs": [],
   "source": [
    "import matplotlib.pyplot as plt\n",
    "import os\n",
    "import pickle\n",
    "def load_agents(filename):\n",
    "    with open(filename, 'rb') as file:\n",
    "        print('Loading agents from file: ' + filename)\n",
    "        return pickle.load(file)"
   ]
  },
  {
   "cell_type": "code",
   "execution_count": 7,
   "metadata": {},
   "outputs": [
    {
     "name": "stdout",
     "output_type": "stream",
     "text": [
      "['agents_0.1.pkl', 'agents_0.2.pkl', 'agents_0.3.pkl', 'agents_0.4.pkl', 'agents_0.5.pkl', 'agents_0.6.pkl', 'agents_0.7.pkl', 'agents_0.8.pkl', 'agents_0.9.pkl']\n"
     ]
    }
   ],
   "source": [
    "directory_path = '../saved_sim_runs'\n",
    "files = [f for f in os.listdir(directory_path) if os.path.isfile(os.path.join(directory_path, f))]\n",
    "\n",
    "files = [f for f in files if 'agents' in f]\n",
    "files.sort()\n",
    "print(files)"
   ]
  },
  {
   "cell_type": "code",
   "execution_count": 13,
   "metadata": {},
   "outputs": [
    {
     "name": "stdout",
     "output_type": "stream",
     "text": [
      "0.1\n",
      "Loading agents from file: ../saved_sim_runs/agents_0.1.pkl\n",
      "0.2\n",
      "Loading agents from file: ../saved_sim_runs/agents_0.2.pkl\n",
      "0.3\n",
      "Loading agents from file: ../saved_sim_runs/agents_0.3.pkl\n",
      "0.4\n",
      "Loading agents from file: ../saved_sim_runs/agents_0.4.pkl\n",
      "0.5\n",
      "Loading agents from file: ../saved_sim_runs/agents_0.5.pkl\n",
      "0.6\n",
      "Loading agents from file: ../saved_sim_runs/agents_0.6.pkl\n",
      "0.7\n",
      "Loading agents from file: ../saved_sim_runs/agents_0.7.pkl\n",
      "0.8\n",
      "Loading agents from file: ../saved_sim_runs/agents_0.8.pkl\n",
      "0.9\n",
      "Loading agents from file: ../saved_sim_runs/agents_0.9.pkl\n"
     ]
    }
   ],
   "source": [
    "sim_agents_list = []\n",
    "for file in files:\n",
    "    percent_low = float(file.split('agents_')[1].split('.pkl')[0])\n",
    "    agents = load_agents(os.path.join(directory_path, file))\n",
    "    sim_agents_list.append((percent_low, agents))"
   ]
  },
  {
   "cell_type": "code",
   "execution_count": 14,
   "metadata": {},
   "outputs": [],
   "source": [
    "def sort_agents_by_opinion(agents):\n",
    "    return sorted(agents.items(), key=lambda x: x[1].opinions[0])"
   ]
  },
  {
   "cell_type": "code",
   "execution_count": null,
   "metadata": {},
   "outputs": [],
   "source": [
    "strat_to_threshold = {\n",
    "        0: 0.01,\n",
    "        1: 0.01,\n",
    "        2: 0.95\n",
    "    }\n",
    "    \n",
    "for percent_low, agents in sim_agents_list:\n",
    "    print(f\"=================================\")\n",
    "    print(f\"Sim with {percent_low}\")\n",
    "    print(f\"=================================\")\n",
    "    for agent in agents.values():\n",
    "        agent.update_agent_strat_prob_history()\n",
    "\n",
    "    # Sort agents by their opinions\n",
    "    sorted_agents = sort_agents_by_opinion(agents)\n",
    "    round_numbers = list(range(len(next(iter(agents.values())).old_strategy_weights)))  # Assuming all have the same round count\n",
    "\n",
    "    # Assuming `sorted_agents` is a list of tuples and you have access to opinion and strategy probability data\n",
    "    for strat, threshold in strat_to_threshold.items():  # For each strategy\n",
    "        opinions = []\n",
    "        strat_prob = []\n",
    "\n",
    "        # Collect data for each agent\n",
    "        for uuid, agent in sorted_agents:\n",
    "            opinions.append(agent.opinions[0])\n",
    "            strat_prob.append(agent.agent_strat_prob_history[-1][strat])\n",
    "\n",
    "        # Create a plot with two y-axes\n",
    "        fig, ax1 = plt.subplots()\n",
    "\n",
    "        # Scatter plot on primary y-axis\n",
    "        ax1.scatter(opinions, strat_prob, color='b')\n",
    "        # Get range for which everyone is above the threshold\n",
    "        is_above_threshold = strat_to_threshold[strat] > 0.5\n",
    "        threshold_range = find_max_length_index_range(strat_prob, strat_to_threshold[strat], is_above_threshold)\n",
    "        if threshold_range:\n",
    "            start_opinion = opinions[threshold_range[0]]\n",
    "            end_opinion = opinions[threshold_range[1]]\n",
    "            print(f\"Opinion Range: [{start_opinion}, {end_opinion}]\")  # Printing for verification\n",
    "            y_coord = -40 if is_above_threshold == True else -40\n",
    "            ax1.axvspan(start_opinion, end_opinion, color='y', alpha=0.5)\n",
    "            ax1.annotate(f'Start: {start_opinion:.2f}', (start_opinion, strat_prob[threshold_range[0]]),\n",
    "                xytext=(y_coord, 20), textcoords=\"offset points\", ha='center', va='top', color='red')\n",
    "            ax1.annotate(f'End: {end_opinion:.2f}', (end_opinion, strat_prob[threshold_range[1]]),\n",
    "                xytext=(-y_coord, 20), textcoords=\"offset points\", ha='center', va='top', color='red')\n",
    "\n",
    "\n",
    "        # ax1.axvline(x=0, color='r', linestyle='--')  # 'r' for red, '--' for dashed line style\n",
    "\n",
    "        ax1.set_xlabel('Opinion')\n",
    "        ax1.set_ylabel(f'Strategy {strat} Probability', color='b')\n",
    "        \n",
    "        # Create secondary y-axis for the histogram\n",
    "        ax2 = ax1.twinx()  # instantiate a second axes that shares the same x-axis\n",
    "        ax2.hist(opinions, bins=np.arange(min(opinions), max(opinions) + 0.02, 0.02), alpha=0.3)\n",
    "        ax2.set_ylabel('Frequency', color='g')\n",
    "\n",
    "        # Change the tick color and label color to match the plots\n",
    "        ax1.tick_params(axis='y', labelcolor='b')\n",
    "        ax2.tick_params(axis='y', labelcolor='g')\n",
    "\n",
    "        plt.title(f'Opinion vs. Strategy {strat} Probability with Opinion Frequency')\n",
    "        plt.show()\n"
   ]
  }
 ],
 "metadata": {
  "kernelspec": {
   "display_name": "Python 3",
   "language": "python",
   "name": "python3"
  },
  "language_info": {
   "codemirror_mode": {
    "name": "ipython",
    "version": 3
   },
   "file_extension": ".py",
   "mimetype": "text/x-python",
   "name": "python",
   "nbconvert_exporter": "python",
   "pygments_lexer": "ipython3",
   "version": "3.9.15"
  }
 },
 "nbformat": 4,
 "nbformat_minor": 2
}
